{
 "cells": [
  {
   "cell_type": "code",
   "execution_count": 3,
   "metadata": {},
   "outputs": [],
   "source": [
    "import json\n",
    "from collections import abc"
   ]
  },
  {
   "cell_type": "markdown",
   "metadata": {},
   "source": [
    "## Data Wrangling with Dynamic Attributes"
   ]
  },
  {
   "cell_type": "code",
   "execution_count": 19,
   "metadata": {},
   "outputs": [],
   "source": [
    "class FrozenJson1:\n",
    "\n",
    "    def __init__(self, mapping):\n",
    "        self.__data = dict(mapping)\n",
    "\n",
    "    def __getattr__(self, name):\n",
    "        try:\n",
    "            return getattr(self.__data, name)\n",
    "        except AttributeError:\n",
    "            return self.build(self.__data[name])\n",
    "\n",
    "    def __dir__(self):\n",
    "        return self.__data.keys()\n",
    "\n",
    "    @classmethod\n",
    "    def build(cls, obj):\n",
    "        if isinstance(obj, abc.Mapping):\n",
    "            return cls(obj)\n",
    "        elif isinstance(obj, abc.MutableSequence):\n",
    "            return [cls.build(item) for item in obj]\n",
    "        else:\n",
    "            return obj\n",
    "\n",
    "class FrozenJson:\n",
    "\n",
    "    def __new__(cls, arg):\n",
    "        if isinstance(arg, abc.Mapping):\n",
    "            return super().__new__(cls)\n",
    "        elif isinstance(arg, abc.MutableSequence):\n",
    "            return [cls(item) for item in arg]\n",
    "        else:\n",
    "            return arg\n",
    "    \n",
    "    def __init__(self, mapping):\n",
    "        self.__data = dict(mapping)\n",
    "\n",
    "    def __getattr__(self, name):\n",
    "        try:\n",
    "            return getattr(self.__data, name)\n",
    "        except AttributeError:\n",
    "            return FrozenJson(self.__data[name])\n",
    "\n",
    "    def __dir__(self):\n",
    "        return self.__data.keys()"
   ]
  },
  {
   "cell_type": "markdown",
   "metadata": {},
   "source": [
    "```\n",
    "# pseudocode for object construction\n",
    "def make(the_class, some_arg):\n",
    "    new_object = the_class.__new__(some_arg)\n",
    "    \n",
    "    # new_object might not be an object of the_class\n",
    "    if isinstance(new_object, the_class):\n",
    "        the_class.__init__(new_object, some_arg)\n",
    "    return new_object\n",
    "\n",
    "# the following statements are roughly equivalent\n",
    "x = Foo('bar')\n",
    "x = make(Foo, 'bar')\n",
    "```"
   ]
  },
  {
   "cell_type": "code",
   "execution_count": 17,
   "metadata": {},
   "outputs": [
    {
     "data": {
      "text/plain": [
       "<__main__.FrozenJson at 0x1061be9a0>"
      ]
     },
     "execution_count": 17,
     "metadata": {},
     "output_type": "execute_result"
    }
   ],
   "source": [
    "x = object.__new__(FrozenJson)\n",
    "x"
   ]
  },
  {
   "cell_type": "code",
   "execution_count": 20,
   "metadata": {},
   "outputs": [
    {
     "data": {
      "text/plain": [
       "'In this new presentation from Jono Bacon, author of The Art of Community, founder of the Community Leadership Summit, and Ubuntu Community Manager, he discusses how to process, interpret, and manage rude, disrespectful, and non-constructive feedback in communities so the constructive criticism gets through but the hate doesn&#x27;t.'"
      ]
     },
     "execution_count": 20,
     "metadata": {},
     "output_type": "execute_result"
    }
   ],
   "source": [
    "raw_feed = json.load(open('osconfeed.json'))\n",
    "feed = FrozenJson(raw_feed)\n",
    "feed.Schedule.events[100].description"
   ]
  },
  {
   "cell_type": "code",
   "execution_count": 18,
   "metadata": {},
   "outputs": [
    {
     "data": {
      "text/plain": [
       "[{'a': 1}]"
      ]
     },
     "execution_count": 18,
     "metadata": {},
     "output_type": "execute_result"
    }
   ],
   "source": [
    "FrozenJson([{'a': 1}])"
   ]
  }
 ],
 "metadata": {
  "kernelspec": {
   "display_name": "Python 3.9.6 64-bit",
   "language": "python",
   "name": "python3"
  },
  "language_info": {
   "codemirror_mode": {
    "name": "ipython",
    "version": 3
   },
   "file_extension": ".py",
   "mimetype": "text/x-python",
   "name": "python",
   "nbconvert_exporter": "python",
   "pygments_lexer": "ipython3",
   "version": "3.9.6"
  },
  "orig_nbformat": 4,
  "vscode": {
   "interpreter": {
    "hash": "31f2aee4e71d21fbe5cf8b01ff0e069b9275f58929596ceb00d14d90e3e16cd6"
   }
  }
 },
 "nbformat": 4,
 "nbformat_minor": 2
}
