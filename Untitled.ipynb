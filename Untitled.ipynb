{
 "cells": [
  {
   "cell_type": "code",
   "execution_count": 15,
   "metadata": {},
   "outputs": [],
   "source": [
    "def createCounter():\n",
    "    def counter():\n",
    "        n = 0\n",
    "        while True:\n",
    "            n = n + 1\n",
    "            yield n\n",
    "    it = counter()\n",
    "    def callCounter():\n",
    "        return next(it)\n",
    "    return callCounter"
   ]
  },
  {
   "cell_type": "code",
   "execution_count": 16,
   "metadata": {},
   "outputs": [
    {
     "name": "stdout",
     "output_type": "stream",
     "text": [
      "[1, 2, 3, 4]\n",
      "[1, 2, 3, 4]\n"
     ]
    }
   ],
   "source": [
    "counterA = createCounter()\n",
    "print([counterA(), counterA(), counterA(), counterA()])\n",
    "counterA = createCounter()\n",
    "print([counterA(), counterA(), counterA(), counterA()])"
   ]
  },
  {
   "cell_type": "code",
   "execution_count": 14,
   "metadata": {},
   "outputs": [
    {
     "name": "stdout",
     "output_type": "stream",
     "text": [
      "[1, 2]\n",
      "[3, 4]\n"
     ]
    }
   ],
   "source": [
    "def g():\n",
    "    n=0\n",
    "    while True:\n",
    "        n=n+1\n",
    "        yield n\n",
    "it=g()\n",
    "def createCounter():\n",
    "\tdef counter():\n",
    "\t\treturn next(it)\n",
    "\treturn counter\n",
    "counterA = createCounter()\n",
    "print([counterA(), counterA()])\n",
    "counterA = createCounter()\n",
    "print([counterA(), counterA()])"
   ]
  }
 ],
 "metadata": {
  "kernelspec": {
   "display_name": "Python 3",
   "language": "python",
   "name": "python3"
  },
  "language_info": {
   "codemirror_mode": {
    "name": "ipython",
    "version": 3
   },
   "file_extension": ".py",
   "mimetype": "text/x-python",
   "name": "python",
   "nbconvert_exporter": "python",
   "pygments_lexer": "ipython3",
   "version": "3.6.3"
  }
 },
 "nbformat": 4,
 "nbformat_minor": 2
}
