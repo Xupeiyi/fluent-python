{
 "cells": [
  {
   "cell_type": "markdown",
   "metadata": {},
   "source": [
    "# 21.1类工厂函数\n",
    "\n",
    "namedtuple就是一个类工厂函数的典范。\n",
    "```{python}\n",
    "Dog = namedtuple('Dog', 'name weight owner')  # Dog类，属性为name, weight, owner \n",
    "rex = Dog('Rex', 30, 'Bob')\n",
    "```\n",
    "\n",
    "我们来试着实现它。"
   ]
  },
  {
   "cell_type": "code",
   "execution_count": 23,
   "metadata": {},
   "outputs": [
    {
     "data": {
      "text/plain": [
       "Dog(name='Rex', weight=3.3, owner='Mike')"
      ]
     },
     "execution_count": 23,
     "metadata": {},
     "output_type": "execute_result"
    }
   ],
   "source": [
    "def record_factory(cls_name, field_names):\n",
    "    # 将field_names由字符串解析为tuple\n",
    "    try:\n",
    "        field_names = field_names.replace(',', ' ').split()\n",
    "    except AttributeError:\n",
    "        pass\n",
    "    field_names = tuple(field_names)\n",
    "    \n",
    "    # 定义类的各个方法\n",
    "    def __init__(self, *args, **kwargs):\n",
    "        attrs = dict(zip(self.__slots__, args)) # 忽略一切slots中未包含的参数\n",
    "        attrs.update(kwargs)\n",
    "        for name, value in attrs.items():\n",
    "            setattr(self, name, value)\n",
    "    \n",
    "    def __iter__(self):\n",
    "        for name in self.__slots__:\n",
    "            yield getattr(self, name)\n",
    "    \n",
    "    def __repr__(self):\n",
    "        values = ', '.join('{}={!r}'.format(*i) for i \n",
    "                           in zip(self.__slots__, self))\n",
    "        return ('{}({})'.format(self.__class__.__name__, values))\n",
    "    \n",
    "    # 构造类\n",
    "    cls_attrs = dict(__slots__=field_names,\n",
    "                     __init__=__init__,\n",
    "                     __iter__=__iter__,\n",
    "                     __repr__=__repr__)\n",
    "    return type(cls_name, (object,), cls_attrs)\n",
    "        \n",
    "\n",
    "Dog = record_factory('Dog', 'name weight owner')\n",
    "rex = Dog('Rex', 3.3, 'Mike')\n",
    "rex"
   ]
  },
  {
   "cell_type": "markdown",
   "metadata": {},
   "source": [
    "关于type:\n",
    "    type不仅可以作为函数使用，也可以作为类使用:\n",
    "```        \n",
    "MyClass = type('MyClass', (MySuperClass, MyMixin),\n",
    "               {'x': 42, 'x2': lambda self: self.x * 2})\n",
    "```\n",
    "type的实例也是一个类。"
   ]
  },
  {
   "cell_type": "markdown",
   "metadata": {},
   "source": [
    "# 21.3导入时和运行时比较\n",
    "\n",
    "在导入时，解释器会从上到下一次性解析完 .py 模块的源码，然后生成用于执行的字节码。如果句法有错误，就在此时报告。\n",
    "import语句不只是声明 ，在进程中首次导入模块时，还会运行所导入模块中的全部顶层代码——以后导入相同的模块则使用缓存，只做名称绑定。\n",
    "\n",
    "在首次导入模块时，解释器会编译函数的定义体，把函数对象绑定到对应的全局名称上，但是显然解释器不会执行函数的定义体。\n",
    "在导入时，解释器会执行每个类的定义体，甚至会执行嵌套类的定义体。执行类定义体的结果是，定义了类的属性和方法，并构建了类对象。\n",
    "\n",
    "\n",
    "\n",
    "**关于本节的练习**：  \n",
    "先计算被装饰的类 ClassThree 的定义体，然后运行装饰器函数。  \n",
    "程序结束时，绑定在全局变量 one 上的 ClassOne 实例会被垃圾回收程序回收。  \n",
    "类装饰器可能对子类没有影响。"
   ]
  },
  {
   "cell_type": "markdown",
   "metadata": {},
   "source": [
    "# 21.4元类基础知识\n",
    "\n",
    "object <--继承-- MyClass  \n",
    "type <--实例-- MyClass\n",
    "\n",
    "\n",
    "type是object的子类，object是type的实例  \n",
    "type是自身的实例"
   ]
  },
  {
   "cell_type": "code",
   "execution_count": 42,
   "metadata": {},
   "outputs": [
    {
     "name": "stdout",
     "output_type": "stream",
     "text": [
      "object is an instance of:  <class 'type'>\n",
      "type is the subclass of:  (<class 'object'>,)\n"
     ]
    }
   ],
   "source": [
    "print(\"object is an instance of: \",object.__class__)\n",
    "print(\"type is the subclass of: \",type.__bases__)"
   ]
  },
  {
   "cell_type": "markdown",
   "metadata": {},
   "source": [
    "所有元类都是type的子类，它们从type继承了实例化类的能力。  \n",
    "**关于本节的练习**：    \n",
    "创建 ClassFive 时调用了 MetaAleph.__init__ 方法。  \n",
    "创建 ClassFive 的子类 ClassSix 时也调用了 MetaAleph.__init__ 方法。  \n",
    "元类对其实例的子类会产生影响。"
   ]
  }
 ],
 "metadata": {
  "kernelspec": {
   "display_name": "Python 3",
   "language": "python",
   "name": "python3"
  },
  "language_info": {
   "codemirror_mode": {
    "name": "ipython",
    "version": 3
   },
   "file_extension": ".py",
   "mimetype": "text/x-python",
   "name": "python",
   "nbconvert_exporter": "python",
   "pygments_lexer": "ipython3",
   "version": "3.6.3"
  }
 },
 "nbformat": 4,
 "nbformat_minor": 2
}
